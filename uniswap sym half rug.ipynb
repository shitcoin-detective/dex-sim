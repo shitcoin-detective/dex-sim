{
 "cells": [
  {
   "cell_type": "markdown",
   "id": "3f691fa7",
   "metadata": {},
   "source": [
    "# Uniswap exchange simulator"
   ]
  },
  {
   "attachments": {
    "image.png": {
     "image/png": "[encoded data removed]"
    }
   },
   "cell_type": "markdown",
   "id": "17366eef",
   "metadata": {},
   "source": [
    "Uniswap trading formula:\n",
    "![image.png](attachment:image.png)"
   ]
  },
  {
   "cell_type": "code",
   "execution_count": 1,
   "id": "0dc0cf67",
   "metadata": {},
   "outputs": [],
   "source": [
    "BNB = 1\n",
    "Ra = 100 * BNB\n",
    "Rb  = 1000000\n",
    "k = Ra*Rb\n",
    "\n",
    "def init():\n",
    "    global Rb \n",
    "    global Ra\n",
    "    global k\n",
    "    BNB = 1\n",
    "    Ra = 100 * BNB\n",
    "    Rb  = 1000000\n",
    "    k = Ra*Rb\n"
   ]
  },
  {
   "cell_type": "code",
   "execution_count": 2,
   "id": "1ee16c66",
   "metadata": {},
   "outputs": [],
   "source": [
    "from sympy.solvers import solve\n",
    "from sympy import Symbol\n",
    "\n",
    "def buy(bnb = 0):\n",
    "    global Rb \n",
    "    global Ra\n",
    "    global k\n",
    "    deltaB = Symbol('deltaB')\n",
    "    \n",
    "    token =solve((Ra + bnb)*(Rb - deltaB)-k,deltaB)\n",
    "    \n",
    "    token =float(token[0])\n",
    "    Ra = Ra+bnb\n",
    "    Rb= Rb-token\n",
    "    k = Ra*Rb\n",
    "    return token\n",
    "\n",
    "def sell(token = 0):\n",
    "    global Rb \n",
    "    global Ra\n",
    "    global k\n",
    "    bnb = Symbol('bnb')\n",
    "    \n",
    "    bnb =solve((Ra - bnb)*(Rb + token)-k,bnb)\n",
    "    \n",
    "    bnb =float(bnb[0])\n",
    "    Ra = Ra-bnb\n",
    "    Rb= Rb+token\n",
    "    k = Ra*Rb\n",
    "    return bnb\n",
    "\n"
   ]
  },
  {
   "cell_type": "code",
   "execution_count": 4,
   "id": "b004fdf9",
   "metadata": {},
   "outputs": [
    {
     "name": "stdout",
     "output_type": "stream",
     "text": [
      "buying for 1 bnb will give this many tokens :  9900.990099009901\n",
      "selling thos tokens back will give this many BNB :  1.0\n"
     ]
    }
   ],
   "source": [
    "#buying selling\n",
    "init()\n",
    "token = buy(1)\n",
    "print(\"buying for 1 bnb will give this many tokens : \",token)\n",
    "bnb =sell(token)\n",
    "print(\"selling thos tokens back will give this many BNB : \",bnb)"
   ]
  },
  {
   "cell_type": "code",
   "execution_count": 5,
   "id": "b0773d47",
   "metadata": {},
   "outputs": [
    {
     "name": "stdout",
     "output_type": "stream",
     "text": [
      "selling thos tokens back will give this many BNB :  1.1009210268469536\n"
     ]
    }
   ],
   "source": [
    "#price going up\n",
    "token = buy(1)\n",
    "buy(1),buy(1),buy(1),buy(1),buy(1)\n",
    "bnb =sell(token)\n",
    "print(\"selling thos tokens back will give this many BNB : \",bnb)"
   ]
  },
  {
   "cell_type": "code",
   "execution_count": 18,
   "id": "7b9a5c35",
   "metadata": {},
   "outputs": [
    {
     "name": "stdout",
     "output_type": "stream",
     "text": [
      "buying for 1 bnb will give this many tokens :  9900.990099009901\n",
      "selling thos tokens back will give this many BNB :  0.9901960784313725\n"
     ]
    }
   ],
   "source": [
    "#small investor half-pull\n",
    "init()\n",
    "token = buy(1)\n",
    "print(\"buying for 1 bnb will give this many tokens : \",token)\n",
    "Ra = Ra/2\n",
    "Rb = Rb/2\n",
    "k = Ra*Rb\n",
    "bnb = sell(token)\n",
    "print(\"selling thos tokens back will give this many BNB : \",bnb)"
   ]
  },
  {
   "cell_type": "code",
   "execution_count": 7,
   "id": "188e62a1",
   "metadata": {},
   "outputs": [
    {
     "name": "stdout",
     "output_type": "stream",
     "text": [
      "buying for 1 bnb will give this many tokens :  500000.0\n",
      "selling thos tokens back will give this many BNB :  66.66666666666667\n"
     ]
    }
   ],
   "source": [
    "#Large investor half-pull\n",
    "init()\n",
    "token = buy(100)\n",
    "print(\"buying for 1 bnb will give this many tokens : \",token)\n",
    "Ra = Ra/2\n",
    "Rb = Rb/2\n",
    "k = Ra*Rb\n",
    "print(\"selling thos tokens back will give this many BNB : \",sell(token))"
   ]
  },
  {
   "cell_type": "code",
   "execution_count": 9,
   "id": "d0dc4e9b",
   "metadata": {},
   "outputs": [
    {
     "name": "stdout",
     "output_type": "stream",
     "text": [
      "buying for 1 bnb will give this many tokens :  9900.990099009901\n",
      "selling thos tokens back will give this many BNB :  0.25\n"
     ]
    }
   ],
   "source": [
    "#Large investor half-pull with soft rug\n",
    "init()\n",
    "token = buy(1)\n",
    "print(\"buying for 1 bnb will give this many tokens : \",token)\n",
    "Ra = Ra/2\n",
    "Rb = Rb/2\n",
    "k = Ra*Rb\n",
    "sell(Rb)\n",
    "print(\"selling thos tokens back will give this many BNB : \",sell(token))"
   ]
  },
  {
   "cell_type": "code",
   "execution_count": 20,
   "id": "7a4efd83",
   "metadata": {},
   "outputs": [
    {
     "name": "stdout",
     "output_type": "stream",
     "text": [
      "buying for 1 bnb will give this many tokens :  9900.990099009901\n",
      "LP value in BNB:  101\n",
      "they made a profit of :  1.98\n",
      "LP value BNB:  99.0\n",
      "selling thos tokens back will give this many BNB :  0.9802950787206741\n"
     ]
    }
   ],
   "source": [
    "#Very slow soft rug\n",
    "init()\n",
    "token = buy(1)\n",
    "print(\"buying for 1 bnb will give this many tokens : \",token)\n",
    "print(\"LP value in BNB: \" , Ra)\n",
    "Ra = Ra*0.99\n",
    "Rb = Rb*0.99\n",
    "k = Ra*Rb\n",
    "print(\"they made a profit of : \" , sell(Rb*0.01) + Ra*0.01)\n",
    "print(\"LP value BNB: \" , Ra)\n",
    "print(\"selling thos tokens back will give this many BNB : \",sell(token))"
   ]
  },
  {
   "cell_type": "code",
   "execution_count": null,
   "id": "5e5a5e4f",
   "metadata": {},
   "outputs": [],
   "source": []
  }
 ],
 "metadata": {
  "kernelspec": {
   "display_name": "Python 3",
   "language": "python",
   "name": "python3"
  },
  "language_info": {
   "codemirror_mode": {
    "name": "ipython",
    "version": 3
   },
   "file_extension": ".py",
   "mimetype": "text/x-python",
   "name": "python",
   "nbconvert_exporter": "python",
   "pygments_lexer": "ipython3",
   "version": "3.7.6"
  }
 },
 "nbformat": 4,
 "nbformat_minor": 5
}
